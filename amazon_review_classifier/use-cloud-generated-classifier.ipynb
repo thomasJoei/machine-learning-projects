{
 "cells": [
  {
   "cell_type": "code",
   "execution_count": 5,
   "metadata": {
    "collapsed": true
   },
   "outputs": [],
   "source": [
    "from joblib import dump, load\n",
    "\n",
    "clf = load('data/bayes_classifier.joblib') "
   ]
  },
  {
   "cell_type": "code",
   "execution_count": 6,
   "metadata": {
    "collapsed": true
   },
   "outputs": [],
   "source": [
    "def testClassifiers(sentence):\n",
    "    results = {'bayes': clf.predict([sentence])[0]\n",
    "              }\n",
    "    return '\"{}\" : '.format(sentence) + str(results)"
   ]
  },
  {
   "cell_type": "code",
   "execution_count": 7,
   "metadata": {},
   "outputs": [
    {
     "name": "stdout",
     "output_type": "stream",
     "text": [
      "\"Cool Hip-hop album\" : {'bayes': 'Digital_Music'}\n",
      "\"Dodge is the best\" : {'bayes': 'Automotive'}\n",
      "\"Plate number is \" : {'bayes': 'Automotive'}\n",
      "\"I like to play with it\" : {'bayes': 'Toys_and_Games'}\n",
      "\"The preface looks good, but the story is shit\" : {'bayes': 'Books'}\n",
      "\"Nice lipstick\" : {'bayes': 'Beauty'}\n"
     ]
    }
   ],
   "source": [
    "print(testClassifiers(\"Cool Hip-hop album\"))\n",
    "print(testClassifiers(\"Dodge is the best\"))\n",
    "print(testClassifiers(\"Plate number is \"))\n",
    "print(testClassifiers(\"I like to play with it\"))\n",
    "print(testClassifiers(\"The preface looks good, but the story is shit\"))\n",
    "print(testClassifiers(\"Nice lipstick\"))\n",
    "\n"
   ]
  },
  {
   "cell_type": "code",
   "execution_count": 8,
   "metadata": {},
   "outputs": [
    {
     "name": "stdout",
     "output_type": "stream",
     "text": [
      "\"Great book! Easy to read and interesting story. Perfect for the holidays\" : {'bayes': 'Books'}\n",
      "\"The size is not suitable. I ordered it in 36 and it corresponds more to a 42. Very disappointed\" : {'bayes': 'Clothing_Shoes_and_Jewelry'}\n"
     ]
    }
   ],
   "source": [
    "print(testClassifiers(\"Great book! Easy to read and interesting story. Perfect for the holidays\"))\n",
    "print(testClassifiers(\"The size is not suitable. I ordered it in 36 and it corresponds more to a 42. Very disappointed\"))\n"
   ]
  }
 ],
 "metadata": {
  "kernelspec": {
   "display_name": "Python 3",
   "language": "python",
   "name": "python3"
  },
  "language_info": {
   "codemirror_mode": {
    "name": "ipython",
    "version": 3
   },
   "file_extension": ".py",
   "mimetype": "text/x-python",
   "name": "python",
   "nbconvert_exporter": "python",
   "pygments_lexer": "ipython3",
   "version": "3.6.3"
  }
 },
 "nbformat": 4,
 "nbformat_minor": 2
}
