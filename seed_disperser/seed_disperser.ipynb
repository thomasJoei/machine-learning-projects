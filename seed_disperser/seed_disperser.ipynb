{
 "cells": [
  {
   "cell_type": "code",
   "execution_count": 1,
   "metadata": {},
   "outputs": [],
   "source": [
    "# Specs:\n",
    "# 4 seed layers : Canopy, Tree Stratum, Understorey, Shrub Layer.\n",
    "# Must place 3 seed of different layers in each square meter.\n",
    "# Seeds must be randomly distributed across the whole area."
   ]
  },
  {
   "cell_type": "code",
   "execution_count": 2,
   "metadata": {},
   "outputs": [],
   "source": [
    "from enum import Enum \n",
    "import numpy as np\n",
    "import random\n",
    "\n",
    "def countSeeds(area_list, seed_layers):\n",
    "    result = dict.fromkeys(seed_layers, 0)\n",
    "    \n",
    "    for x in area_list:\n",
    "        for seed_type in x:\n",
    "            result[seed_type] += 1\n",
    "    \n",
    "    return result\n",
    "\n",
    "def printDistribution(area_list, seed_layers):\n",
    "    result = countSeeds(area_list, seed_layers)\n",
    "    seeds_count = sum(result.values())\n",
    "    \n",
    "    for seed_type, seed_nb in result.items():\n",
    "        print(\"{} : {} ({}%)\".format(seed_type, seed_nb, (seed_nb / seeds_count) * 100))"
   ]
  },
  {
   "cell_type": "code",
   "execution_count": 3,
   "metadata": {},
   "outputs": [],
   "source": [
    "def decrementSeedNumber(key, seed_type_array):\n",
    "    seeds_stocks[key] -= 1\n",
    "   \n",
    "    if (seeds_stocks[key] <= 0):  # removing from list if no seeds left\n",
    "        seed_type_array.remove(key)\n",
    "    \n",
    "def selectSeedsFromStock(size, seed_type_array):\n",
    "    selection = []\n",
    "\n",
    "    # check size of current selection and if seed_type_array not empty\n",
    "    while len(selection) < size and seed_type_array:\n",
    "        size_to_complete = size - len(selection)\n",
    "        size_possible = min(size_to_complete, len(seed_type_array))\n",
    "        my_selection = np.random.choice(seed_type_array, size=size_possible, replace=False)\n",
    "        \n",
    "        # merge in selection array\n",
    "        selection = np.concatenate((selection, my_selection), axis=None) \n",
    "        \n",
    "        for seedName in my_selection:\n",
    "            decrementSeedNumber(seedName, seed_type_array)\n",
    "        \n",
    "    return selection"
   ]
  },
  {
   "cell_type": "code",
   "execution_count": 4,
   "metadata": {},
   "outputs": [],
   "source": [
    "def plantSeeds(area_size, seeds_stocks):\n",
    "    area = []\n",
    "    seed_layers = list(seeds_stocks.keys())\n",
    "    \n",
    "    for i in range(area_size) :\n",
    "        area.append(selectSeedsFromStock(3, seed_layers))\n",
    "\n",
    "    # Shuffle the area to avoid lack of one seed layer at the end of the list.\n",
    "    # e.g: if there is 20% of one layer the stock will go empty pretty fast \n",
    "    # and the distribution won't be uniform accross the area.\n",
    "    random.shuffle(area)\n",
    "    return area"
   ]
  },
  {
   "cell_type": "code",
   "execution_count": 5,
   "metadata": {},
   "outputs": [],
   "source": [
    "def rand_jitter(arr):\n",
    "    return arr + np.random.uniform(low=0.1, high=0.9, size=len(arr))\n",
    "\n",
    "def getCoordinates(case_index):\n",
    "    x = float(case_index % length)\n",
    "    y = float(case_index // length)\n",
    "    return x, y\n",
    "\n",
    "def separateSeeds(linear_area):\n",
    "    result = {key: {'x' : [], 'y' : []} for key in seeds_stocks.keys()}\n",
    "    \n",
    "    for case_index, square in enumerate(linear_area):\n",
    "        for seed in square:\n",
    "            x,y = getCoordinates(case_index)\n",
    "            result[seed]['x'].append(x)\n",
    "            result[seed]['y'].append(y)\n",
    "    \n",
    "    return result"
   ]
  },
  {
   "cell_type": "code",
   "execution_count": 6,
   "metadata": {},
   "outputs": [],
   "source": [
    "#%matplotlib notebook\n",
    "np.random.seed(19680801)\n",
    "import matplotlib.pyplot as plt\n",
    "\n",
    "\n",
    "\n",
    "def jitter(ax, x, y, s=20, c='b', marker='o', cmap=None, norm=None, vmin=None, vmax=None, alpha=None, linewidths=None, verts=None, **kwargs):\n",
    "    return ax.scatter(rand_jitter(x), rand_jitter(y), s=s, c=c, marker=marker, cmap=cmap, norm=norm, \n",
    "                      vmin=vmin, vmax=vmax, alpha=alpha, linewidths=linewidths, verts=verts, **kwargs)\n",
    "\n",
    "\n",
    "def getPlot(coordinates_per_seed_type, scale=500, seed_color = {\n",
    "    'canopy' : 'tab:blue',\n",
    "    'tree_stratum' : 'tab:orange',\n",
    "    'understorey' : 'tab:green',\n",
    "    'shrub_layer' : 'tab:brown'\n",
    "    }):\n",
    "    fig, ax = plt.subplots()\n",
    "    \n",
    "    for seed_type, coordinates in coordinates_per_seed_type.items():\n",
    "        marker_letter = seed_type[:1] # first letter\n",
    "        jitter(ax, coordinates.get('x'), coordinates.get('y'), c=seed_color.get(seed_type), s=scale, label=seed_type,\n",
    "                   alpha=0.8, \n",
    "               #marker=\"${}$\".format(marker_letter)\n",
    "              )\n",
    "\n",
    "    ax.legend()\n",
    "    # Major ticks every 20, minor ticks every 5\n",
    "    ax.set_xticks(np.arange(0, length + 1, 5))\n",
    "    ax.set_xticks(np.arange(0, length + 1 , 1), minor=True)\n",
    "    ax.set_yticks(np.arange(0, width + 1, 5))\n",
    "    ax.set_yticks(np.arange(0, width + 1 , 1), minor=True)\n",
    "\n",
    "    ## And a corresponding grid\n",
    "    ax.grid(which='both')\n",
    "    ax.grid(which='major', linestyle='-', linewidth='0.5', color='red')\n",
    "    ax.grid(which='minor', linestyle=':', linewidth='0.5', color='black')\n",
    "    #plt.savefig(\"test.svg\", format=\"svg\")\n",
    "    #plt.show()\n",
    "    \n",
    "    return fig, ax"
   ]
  },
  {
   "cell_type": "code",
   "execution_count": 7,
   "metadata": {},
   "outputs": [],
   "source": [
    "def disperseSeeds(seeds_stocks, length, width):\n",
    "    \n",
    "    area_size = length * width\n",
    "    seeds_count = area_size * 3\n",
    "\n",
    "    seed_layers = list(seeds_stocks.keys())\n",
    "    \n",
    "    print(\"area_size : {}\".format(area_size))\n",
    "    print(\"seeds_count : {}\".format(seeds_count))\n",
    "    \n",
    "    # validation \n",
    "    seed_sum = sum(seeds_stocks.values())\n",
    "\n",
    "    if (seed_sum != seeds_count) :\n",
    "        print(\"The seed sum is {} and must be {}\".format(seed_sum, seeds_count))\n",
    "        return \n",
    "    \n",
    "    area = plantSeeds(area_size, seeds_stocks)\n",
    "    \n",
    "    # Need to validate seed number at first since we can lack one seed layer in \n",
    "    # the end which will make some square meters fail the \"3 different seeds\" condition\n",
    "    # we need to ensure the pourcentage of each seed layer is right\n",
    "    printDistribution(area, list(seeds_stocks.keys()))\n",
    "    \n",
    "    scale = 500/max(length, width)\n",
    "\n",
    "    coordinates_per_seed_type = separateSeeds(area)\n",
    "    fig, ax = getPlot(coordinates_per_seed_type, scale=scale)\n",
    "\n",
    "    return fig, ax"
   ]
  },
  {
   "cell_type": "code",
   "execution_count": 13,
   "metadata": {},
   "outputs": [
    {
     "name": "stdout",
     "output_type": "stream",
     "text": [
      "area_size : 150000\n",
      "seeds_count : 450000\n",
      "canopy : 50000 (11.11111111111111%)\n",
      "tree_stratum : 140000 (31.11111111111111%)\n",
      "understorey : 130000 (28.888888888888886%)\n",
      "shrub_layer : 130000 (28.888888888888886%)\n"
     ]
    }
   ],
   "source": [
    "length = 50\n",
    "width = 30\n",
    "\n",
    "seeds_stocks = {\n",
    "'canopy' : 500,\n",
    "'tree_stratum' : 1400,\n",
    "'understorey' : 1300,\n",
    "'shrub_layer' : 1300\n",
    "}\n",
    "\n",
    "fig, ax = disperseSeeds(seeds_stocks, length, width)"
   ]
  },
  {
   "cell_type": "code",
   "execution_count": 14,
   "metadata": {},
   "outputs": [],
   "source": [
    "fig.savefig(\"test-png-plot.png\", format='png', dpi=1000)"
   ]
  },
  {
   "cell_type": "code",
   "execution_count": 12,
   "metadata": {
    "scrolled": false
   },
   "outputs": [],
   "source": [
    "import io\n",
    "\n",
    "imgdata = io.StringIO()\n",
    "fig.savefig(imgdata, format='svg')\n",
    "fig.savefig(\"test-png-plot.png\", format='png', dpi=1000)\n",
    "imgdata.seek(0)  # rewind the data\n",
    "\n",
    "svg_data = imgdata.getvalue()  # this is svg data\n",
    "\n",
    "#save file \n",
    "f= open(\"test-svg-plot.svg\",\"w\")\n",
    "f.write(svg_data)\n",
    "f.close() \n",
    "#file('test.htm', 'w').write(svg_dta)"
   ]
  },
  {
   "cell_type": "code",
   "execution_count": null,
   "metadata": {
    "collapsed": true
   },
   "outputs": [],
   "source": []
  }
 ],
 "metadata": {
  "kernelspec": {
   "display_name": "Python 3",
   "language": "python",
   "name": "python3"
  },
  "language_info": {
   "codemirror_mode": {
    "name": "ipython",
    "version": 3
   },
   "file_extension": ".py",
   "mimetype": "text/x-python",
   "name": "python",
   "nbconvert_exporter": "python",
   "pygments_lexer": "ipython3",
   "version": "3.6.3"
  }
 },
 "nbformat": 4,
 "nbformat_minor": 2
}
