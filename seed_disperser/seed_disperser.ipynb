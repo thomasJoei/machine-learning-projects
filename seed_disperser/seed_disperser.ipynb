{
 "cells": [
  {
   "cell_type": "code",
   "execution_count": 1,
   "metadata": {},
   "outputs": [
    {
     "name": "stdout",
     "output_type": "stream",
     "text": [
      "area_size : 1500\n",
      "seeds_count : 4500\n"
     ]
    }
   ],
   "source": [
    "import seed_disperser\n",
    "\n",
    "length = 50\n",
    "width = 30\n",
    "\n",
    "seeds_stocks = {\n",
    "'canopy' : 500,\n",
    "'tree_stratum' : 1400,\n",
    "'understorey' : 1300,\n",
    "'shrub_layer' : 1300\n",
    "}\n",
    "\n",
    "fig, ax = seed_disperser.disperse_seeds(seeds_stocks, length, width)"
   ]
  },
  {
   "cell_type": "code",
   "execution_count": 2,
   "metadata": {},
   "outputs": [
    {
     "name": "stdout",
     "output_type": "stream",
     "text": [
      "area_size : 6000\n",
      "seeds_count : 18000\n"
     ]
    }
   ],
   "source": [
    "import seed_disperser\n",
    "\n",
    "length = 100\n",
    "width = 60\n",
    "\n",
    "seeds_stocks = {\n",
    "'canopy' : 2000,\n",
    "'tree_stratum' : 5600,\n",
    "'understorey' : 5200,\n",
    "'shrub_layer' : 5200\n",
    "}\n",
    "\n",
    "fig, ax = seed_disperser.disperse_seeds(seeds_stocks, length, width)"
   ]
  },
  {
   "cell_type": "code",
   "execution_count": null,
   "metadata": {
    "collapsed": true
   },
   "outputs": [],
   "source": []
  },
  {
   "cell_type": "code",
   "execution_count": 3,
   "metadata": {
    "collapsed": true
   },
   "outputs": [],
   "source": [
    "# fig.savefig(\"test-png-plot.png\", format='png', dpi=1000)"
   ]
  },
  {
   "cell_type": "code",
   "execution_count": 4,
   "metadata": {},
   "outputs": [
    {
     "name": "stdout",
     "output_type": "stream",
     "text": [
      "<class '_io.StringIO'>\n"
     ]
    }
   ],
   "source": [
    "import io\n",
    "\n",
    "imgdata = io.StringIO()\n",
    "fig.savefig(\"test-png-plot.png\", format='png', dpi=max(length,width)*5)\n",
    "fig.savefig(\"test-png-plot.svg\", format='svg')\n",
    "fig.savefig(imgdata, format='svg')\n",
    "imgdata.seek(0)  # rewind the data\n",
    "\n",
    "svg_data = imgdata.getvalue()  # this is svg data\n",
    "print(type(imgdata))\n",
    "imgdata.close()"
   ]
  },
  {
   "cell_type": "code",
   "execution_count": 5,
   "metadata": {},
   "outputs": [
    {
     "name": "stdout",
     "output_type": "stream",
     "text": [
      "start -> end :\n",
      "1.4966368675231934\n"
     ]
    }
   ],
   "source": [
    "import time, gzip\n",
    "\n",
    "start = time.time()\n",
    "svg_data = seed_disperser.get_svg(fig)\n",
    "end = time.time()\n",
    "print(\"start -> end :\")\n",
    "print(end - start)"
   ]
  },
  {
   "cell_type": "code",
   "execution_count": 6,
   "metadata": {},
   "outputs": [
    {
     "name": "stdout",
     "output_type": "stream",
     "text": [
      "start -> end :\n",
      "1.5874438285827637\n"
     ]
    }
   ],
   "source": [
    "import time, gzip\n",
    "\n",
    "start = time.time()\n",
    "svg_data = seed_disperser.get_svgz(fig)\n",
    "end = time.time()\n",
    "print(\"start -> end :\")\n",
    "print(end - start)"
   ]
  },
  {
   "cell_type": "code",
   "execution_count": 7,
   "metadata": {
    "collapsed": true,
    "scrolled": false
   },
   "outputs": [],
   "source": [
    "# imgdata = io.StringIO()\n",
    "# fig.savefig(imgdata, format='svg')\n",
    "# fig.savefig(\"test-png-plot.png\", format='png', dpi=1000)\n",
    "# imgdata.seek(0)  # rewind the data\n",
    "\n",
    "# svg_data = imgdata.getvalue()  # this is svg data\n",
    "\n",
    "# #save file \n",
    "# f= open(\"test-svg-plot.svg\",\"w\")\n",
    "# f.write(svg_data)\n",
    "# f.close() \n",
    "# #file('test.htm', 'w').write(svg_dta)"
   ]
  },
  {
   "cell_type": "code",
   "execution_count": 8,
   "metadata": {},
   "outputs": [
    {
     "data": {
      "text/plain": [
       "{'eps': 'Encapsulated Postscript',\n",
       " 'jpeg': 'Joint Photographic Experts Group',\n",
       " 'jpg': 'Joint Photographic Experts Group',\n",
       " 'pdf': 'Portable Document Format',\n",
       " 'pgf': 'PGF code for LaTeX',\n",
       " 'png': 'Portable Network Graphics',\n",
       " 'ps': 'Postscript',\n",
       " 'raw': 'Raw RGBA bitmap',\n",
       " 'rgba': 'Raw RGBA bitmap',\n",
       " 'svg': 'Scalable Vector Graphics',\n",
       " 'svgz': 'Scalable Vector Graphics',\n",
       " 'tif': 'Tagged Image File Format',\n",
       " 'tiff': 'Tagged Image File Format'}"
      ]
     },
     "execution_count": 8,
     "metadata": {},
     "output_type": "execute_result"
    }
   ],
   "source": [
    "import matplotlib.pyplot as plt\n",
    "plt.gcf().canvas.get_supported_filetypes()"
   ]
  },
  {
   "cell_type": "code",
   "execution_count": null,
   "metadata": {
    "collapsed": true
   },
   "outputs": [],
   "source": []
  }
 ],
 "metadata": {
  "kernelspec": {
   "display_name": "Python 3",
   "language": "python",
   "name": "python3"
  },
  "language_info": {
   "codemirror_mode": {
    "name": "ipython",
    "version": 3
   },
   "file_extension": ".py",
   "mimetype": "text/x-python",
   "name": "python",
   "nbconvert_exporter": "python",
   "pygments_lexer": "ipython3",
   "version": "3.6.3"
  }
 },
 "nbformat": 4,
 "nbformat_minor": 2
}
