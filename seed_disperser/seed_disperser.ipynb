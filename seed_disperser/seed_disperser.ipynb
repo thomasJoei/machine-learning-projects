{
 "cells": [
  {
   "cell_type": "code",
   "execution_count": 18,
   "metadata": {},
   "outputs": [],
   "source": [
    "import seed_disperser\n",
    "\n",
    "length = 100\n",
    "width = 60\n",
    "\n",
    "seeds_stocks = {\n",
    "'canopy' : 2000,\n",
    "'tree_stratum' : 5600,\n",
    "'understorey' : 5200,\n",
    "'shrub_layer' : 5200\n",
    "}\n",
    "\n",
    "length = 500\n",
    "width = 300\n",
    "\n",
    "seeds_stocks = {\n",
    "'canopy' : 50000,\n",
    "'tree_stratum' : 140000,\n",
    "'understorey' : 130000,\n",
    "'shrub_layer' : 130000\n",
    "}\n",
    "\n",
    "# fig, ax = seed_disperser.disperse_seeds(seeds_stocks, length, width)"
   ]
  },
  {
   "cell_type": "code",
   "execution_count": 16,
   "metadata": {},
   "outputs": [
    {
     "name": "stdout",
     "output_type": "stream",
     "text": [
      "processing time :\n",
      "7.114573955535889\n",
      "create file time :\n",
      "34.98777103424072\n"
     ]
    }
   ],
   "source": [
    "import time, gzip\n",
    "\n",
    "start = time.time()\n",
    "fig, ax = seed_disperser.disperse_seeds(seeds_stocks, length, width)\n",
    "middle = time.time()\n",
    "svg_compressed = seed_disperser.get_svgz(fig)\n",
    "end = time.time()\n",
    "print(\"processing time :\")\n",
    "print(middle - start)\n",
    "print(\"create file time :\")\n",
    "print(end - middle)"
   ]
  },
  {
   "cell_type": "code",
   "execution_count": 19,
   "metadata": {},
   "outputs": [
    {
     "name": "stdout",
     "output_type": "stream",
     "text": [
      "processing time :\n",
      "7.299464225769043\n",
      "create file time :\n",
      "33.394362926483154\n"
     ]
    }
   ],
   "source": [
    "start = time.time()\n",
    "fig, ax = seed_disperser.disperse_seeds(seeds_stocks, length, width)\n",
    "middle = time.time()\n",
    "svg_data = seed_disperser.get_svg(fig)\n",
    "end = time.time()\n",
    "print(\"processing time :\")\n",
    "print(middle - start)\n",
    "print(\"create file time :\")\n",
    "print(end - middle)"
   ]
  },
  {
   "cell_type": "code",
   "execution_count": 21,
   "metadata": {},
   "outputs": [
    {
     "name": "stdout",
     "output_type": "stream",
     "text": [
      "svg: 64671118\n",
      "svgz: 5850999\n"
     ]
    }
   ],
   "source": [
    "import sys\n",
    "print(\"svg: {}\".format(sys.getsizeof(svg_data)))\n",
    "print(\"svgz: {}\".format(sys.getsizeof(svg_compressed)))\n",
    "# fig.savefig(\"test-png-plot.png\", format='png', dpi=1000)"
   ]
  },
  {
   "cell_type": "code",
   "execution_count": 4,
   "metadata": {},
   "outputs": [],
   "source": [
    "# import io\n",
    "\n",
    "# imgdata = io.StringIO()\n",
    "# fig.savefig(\"test-png-plot.png\", format='png', dpi=max(length,width)*5)\n",
    "# fig.savefig(\"test-png-plot.svg\", format='svg')\n",
    "# fig.savefig(imgdata, format='svg')\n",
    "# imgdata.seek(0)  # rewind the data\n",
    "\n",
    "# svg_data = imgdata.getvalue()  # this is svg data\n",
    "# print(type(imgdata))\n",
    "# imgdata.close()"
   ]
  },
  {
   "cell_type": "code",
   "execution_count": 5,
   "metadata": {},
   "outputs": [
    {
     "name": "stdout",
     "output_type": "stream",
     "text": [
      "start -> end :\n",
      "1.6310582160949707\n"
     ]
    }
   ],
   "source": [
    "import time, gzip\n",
    "\n",
    "start = time.time()\n",
    "svg_data = seed_disperser.get_svg(fig)\n",
    "end = time.time()\n",
    "print(\"start -> end :\")\n",
    "print(end - start)"
   ]
  },
  {
   "cell_type": "code",
   "execution_count": 6,
   "metadata": {},
   "outputs": [
    {
     "name": "stdout",
     "output_type": "stream",
     "text": [
      "start -> end :\n",
      "1.609503984451294\n"
     ]
    }
   ],
   "source": [
    "import time, gzip\n",
    "\n",
    "start = time.time()\n",
    "svg_data = seed_disperser.get_svgz(fig)\n",
    "end = time.time()\n",
    "print(\"start -> end :\")\n",
    "print(end - start)"
   ]
  },
  {
   "cell_type": "code",
   "execution_count": 7,
   "metadata": {
    "collapsed": true,
    "scrolled": false
   },
   "outputs": [],
   "source": [
    "# imgdata = io.StringIO()\n",
    "# fig.savefig(imgdata, format='svg')\n",
    "# fig.savefig(\"test-png-plot.png\", format='png', dpi=1000)\n",
    "# imgdata.seek(0)  # rewind the data\n",
    "\n",
    "# svg_data = imgdata.getvalue()  # this is svg data\n",
    "\n",
    "# #save file \n",
    "# f= open(\"test-svg-plot.svg\",\"w\")\n",
    "# f.write(svg_data)\n",
    "# f.close() \n",
    "# #file('test.htm', 'w').write(svg_dta)"
   ]
  },
  {
   "cell_type": "code",
   "execution_count": 8,
   "metadata": {},
   "outputs": [
    {
     "data": {
      "text/plain": [
       "{'eps': 'Encapsulated Postscript',\n",
       " 'jpeg': 'Joint Photographic Experts Group',\n",
       " 'jpg': 'Joint Photographic Experts Group',\n",
       " 'pdf': 'Portable Document Format',\n",
       " 'pgf': 'PGF code for LaTeX',\n",
       " 'png': 'Portable Network Graphics',\n",
       " 'ps': 'Postscript',\n",
       " 'raw': 'Raw RGBA bitmap',\n",
       " 'rgba': 'Raw RGBA bitmap',\n",
       " 'svg': 'Scalable Vector Graphics',\n",
       " 'svgz': 'Scalable Vector Graphics',\n",
       " 'tif': 'Tagged Image File Format',\n",
       " 'tiff': 'Tagged Image File Format'}"
      ]
     },
     "execution_count": 8,
     "metadata": {},
     "output_type": "execute_result"
    }
   ],
   "source": [
    "import matplotlib.pyplot as plt\n",
    "plt.gcf().canvas.get_supported_filetypes()"
   ]
  },
  {
   "cell_type": "code",
   "execution_count": null,
   "metadata": {
    "collapsed": true
   },
   "outputs": [],
   "source": []
  }
 ],
 "metadata": {
  "kernelspec": {
   "display_name": "Python 3",
   "language": "python",
   "name": "python3"
  },
  "language_info": {
   "codemirror_mode": {
    "name": "ipython",
    "version": 3
   },
   "file_extension": ".py",
   "mimetype": "text/x-python",
   "name": "python",
   "nbconvert_exporter": "python",
   "pygments_lexer": "ipython3",
   "version": "3.6.3"
  }
 },
 "nbformat": 4,
 "nbformat_minor": 2
}
